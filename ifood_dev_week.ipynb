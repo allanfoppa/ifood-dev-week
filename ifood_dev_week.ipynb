{
  "cells": [
    {
      "attachments": {},
      "cell_type": "markdown",
      "metadata": {
        "id": "oPigZArHe3d_"
      },
      "source": [
        "# iFood Dev Week\n",
        "\n",
        "Saiba mais sobre essa semana incrível nos artigos:\n",
        "- [Desvendando a iFood Dev Week](https://www.dio.me/articles/desvendando-a-ifood-dev-week)\n",
        "- [Fechando a iFood Dev Week Com Chave de Ouro](https://web.dio.me/articles/fechando-a-ifood-dev-week-com-chave-de-ouro)"
      ]
    },
    {
      "attachments": {},
      "cell_type": "markdown",
      "metadata": {
        "id": "VJ9ncXpVjIz9"
      },
      "source": [
        "## Dia 1: [Conheça o Google Colab e o Projeto Desta Dev Week](https://www.youtube.com/live/59XwC5e8U1k?feature=share)\n",
        "\n",
        "Vamos mergulhar no Google Colab, aprendendo como ele pode ser usado para automatizar tarefas cotidianas, principalmente através da manipulação de planilhas. Além disso, você aprenderá na prática o conceito do Net Promoter Score (NPS), uma métrica fundamental para entender a satisfação do cliente."
      ]
    },
    {
      "cell_type": "code",
      "execution_count": null,
      "metadata": {
        "colab": {
          "base_uri": "https://localhost:8080/"
        },
        "id": "NbC1PgziTHai",
        "outputId": "62c86614-019e-4665-9280-a9dd089e1807"
      },
      "outputs": [],
      "source": [
        "\"\"\"\n",
        "Este código baixa um arquivo CSV de feedbacks do Google Drive e carrega os dados em um DataFrame pandas.\n",
        "\n",
        "O arquivo é identificado por um ID único ('file_id'), que é extraído da URL do arquivo no Google Drive.\n",
        "A URL do arquivo no Google Drive tem o seguinte formato:\n",
        "https://drive.google.com/file/d/FILE_ID/view?usp=sharing\n",
        "\"\"\"\n",
        "\n",
        "# import gdown\n",
        "# import pandas as pd\n",
        "\n",
        "# file_id = '1_nyLNsT55X37Y0KDBXVXzSYsX-SoSqZi'\n",
        "# gdown.download(f'https://drive.google.com/uc?id={file_id}', 'feedbacks.csv')\n",
        "\n",
        "# dados = pd.read_csv('/content/feedbacks.csv', delimiter=';')"
      ]
    },
    {
      "cell_type": "code",
      "execution_count": null,
      "metadata": {},
      "outputs": [],
      "source": [
        "\"\"\"\n",
        "Aqui pegamos o arquivo do próprio repositório\n",
        "\"\"\"\n",
        "\n",
        "import pandas as pd\n",
        "\n",
        "dados = pd.read_csv('./datasets/feedbacks.csv', delimiter=';')\n",
        "dados.head()"
      ]
    },
    {
      "cell_type": "code",
      "execution_count": null,
      "metadata": {
        "cellView": "form",
        "colab": {
          "base_uri": "https://localhost:8080/"
        },
        "id": "pQo2iXQLPjnR",
        "outputId": "23c6c830-37fc-43f8-d2df-71b068bf5d13"
      },
      "outputs": [],
      "source": [
        "#@title\n",
        "\"\"\"\n",
        "Versão 1: Paradigma Imperativo.\n",
        "\n",
        "Este script lê um arquivo CSV contendo feedback de usuários, no qual cada feedback tem uma nota associada.\n",
        "O NPS é calculado como a diferença entre o percentual de promotores (nota >= 9) e detratores (nota <= 6), multiplicada por 100.\n",
        "A implementação é realizada de uma maneira imperativa, onde os comandos são executados sequencialmente.\n",
        "\"\"\"\n",
        "\n",
        "notas = dados['nota']\n",
        "\n",
        "detratores = 0\n",
        "promotores = 0\n",
        "\n",
        "for nota in notas:\n",
        "  if nota >= 9:\n",
        "    promotores += 1\n",
        "  elif nota <= 6:\n",
        "    detratores += 1\n",
        "\n",
        "nps = (promotores - detratores) / len(notas) * 100\n",
        "\n",
        "print(nps)"
      ]
    },
    {
      "cell_type": "code",
      "execution_count": null,
      "metadata": {
        "cellView": "form",
        "colab": {
          "base_uri": "https://localhost:8080/"
        },
        "id": "-qLL6LQ1qcAR",
        "outputId": "72846d0f-f6c5-4132-9fd7-52d78480c254"
      },
      "outputs": [],
      "source": [
        "#@title\n",
        "\"\"\"\n",
        "Versão 2: Paradigma Funcional.\n",
        "\n",
        "Este código segue uma abordagem funcional para calcular o NPS a partir dos dados de feedback.\n",
        "A função \"calcular_nps\" é definida para encapsular a lógica do cálculo do NPS. Esta versão apresenta\n",
        "uma separação de responsabilidades mais clara do que a versão imperativa, além de melhorias de código pontuais.\n",
        "\"\"\"\n",
        "\n",
        "import pandas as pd\n",
        "\n",
        "def calcular_nps(notas):\n",
        "  detratores = notas.apply(lambda nota: nota <= 6).sum()\n",
        "  promotores = notas[notas >= 9].count()\n",
        "\n",
        "  return (promotores - detratores) / len(notas) * 100\n",
        "\n",
        "notas = dados['nota']\n",
        "\n",
        "nps = calcular_nps(notas)\n",
        "\n",
        "print(nps)"
      ]
    },
    {
      "cell_type": "code",
      "execution_count": null,
      "metadata": {
        "colab": {
          "base_uri": "https://localhost:8080/"
        },
        "id": "Rzhk-sOXrwJb",
        "outputId": "10a8c0ff-e4d6-4737-9484-58c7e9a2f0aa"
      },
      "outputs": [],
      "source": [
        "\"\"\"\n",
        "Versão 3: Paradigma Orientado a Objetos (POO).\n",
        "\n",
        "Este script adota uma abordagem Orientada a Objetos (OO) para calcular o NPS a partir de feedback de usuários.\n",
        "Duas classes são definidas, onde:\n",
        "- Feedback representa um único feedback de usuário;\n",
        "- AnalisadorFeedback é usado para calcular o NPS a partir de uma lista de Feedbacks.\n",
        "A POO fornece uma abstração mais clara dos dados e comportamentos envolvidos no cálculo do NPS.\n",
        "Desta forma, nossa solução estará preparada para as evoluções do nosso projeto.\n",
        "\"\"\"\n",
        "\n",
        "class Feedback:\n",
        "  def __init__(self, nota, comentario):\n",
        "    self.nota = nota\n",
        "    self.comentario = comentario\n",
        "\n",
        "class AnalisadorFeedback:\n",
        "  def __init__(self, feedbacks):\n",
        "    self.feedbacks = feedbacks\n",
        "\n",
        "  def calcular_nps(self):\n",
        "    # Por ser uma list do Python, aplicamos o conceito de \"list comprehension\" para filtrar nossos Feedbacks.\n",
        "    detratores = sum(1 for feedback in self.feedbacks if feedback.nota <= 6)\n",
        "    promotores = sum(1 for feedback in self.feedbacks if feedback.nota >= 9)\n",
        "\n",
        "    return (promotores - detratores) / len(self.feedbacks) * 100\n",
        "\n",
        "feedbacks = dados.apply(lambda linha: Feedback(linha['nota'], linha['comentario']), axis=1)\n",
        "\n",
        "analisador = AnalisadorFeedback(feedbacks)\n",
        "nps = analisador.calcular_nps()\n",
        "\n",
        "print(nps)"
      ]
    },
    {
      "attachments": {},
      "cell_type": "markdown",
      "metadata": {
        "id": "ekkcgs-nujuG"
      },
      "source": [
        "## Dia 2: Desvendando o Poder dos Seus Dados com Python\n",
        "\n",
        "No segundo dia, vamos conectar nosso Google Colab ao Google Drive, extrair dados do NPS e aplicar as técnicas de ETL (Extração, Transformação e Carregamento) nesses dados. Com a ajuda da biblioteca matplotlib, criaremos gráficos para visualizar e compreender o nível de satisfação dos nossos usuários."
      ]
    },
    {
      "cell_type": "code",
      "execution_count": null,
      "metadata": {
        "colab": {
          "base_uri": "https://localhost:8080/",
          "height": 237
        },
        "id": "bXaJ7Q0zf95l",
        "outputId": "4c5e4ebf-2e27-4be3-8f80-bce43dc28ecb"
      },
      "outputs": [],
      "source": [
        "import matplotlib.pyplot as plt\n",
        "import matplotlib.patches as mpatches\n",
        "\n",
        "# Definição das constantes que usaremos para visualizar o NPS\n",
        "NPS_ZONAS =   ['Crítico', 'Aperfeiçoamento', 'Qualidade', 'Excelência']\n",
        "NPS_VALORES = [-100, 0, 50, 75, 100]\n",
        "NPS_CORES =   ['#FF595E', '#FFCA3A', '#8AC926', '#1982C4']\n",
        "\n",
        "# TODO: Criar um gráfico usando \"matplotlib\" para visualizar o NPS que calculamos no Dia 1!\n",
        "def criar_grafico_nps(nps):\n",
        "  fig, ax = plt.subplots(figsize=(10, 2))\n",
        "\n",
        "  for i, zona in enumerate(NPS_ZONAS):\n",
        "    ax.barh([0], width=NPS_VALORES[i+1]-NPS_VALORES[i], left=NPS_VALORES[i], color=NPS_CORES[i])\n",
        "\n",
        "  ax.barh([0], width=1, left=nps, color='black')\n",
        "  ax.set_yticks([])\n",
        "  ax.set_xlim(-100, 100)\n",
        "  ax.set_xticks(NPS_VALORES)\n",
        "\n",
        "  plt.text(nps, 0, f'{nps:.2f}', ha='center', va='center', color='white', bbox=dict(facecolor='black'))\n",
        "\n",
        "  patches = [mpatches.Patch(color=NPS_CORES[i], label=NPS_ZONAS[i]) for i in range(len(NPS_ZONAS))]\n",
        "  plt.legend(handles=patches, bbox_to_anchor=(1,1))\n",
        "\n",
        "  plt.title('Gráfico de NPS da iFood Dev Week')\n",
        "\n",
        "  plt.show()\n",
        "\n",
        "criar_grafico_nps(nps)"
      ]
    },
    {
      "attachments": {},
      "cell_type": "markdown",
      "metadata": {
        "id": "jHl6lLS1usU1"
      },
      "source": [
        "## Dia 3: Decifrando Sentimentos com Inteligência Artificial (IA)\n",
        "\n",
        "No último dia, vamos utilizar as técnicas de Processamento de Linguagem Natural (PLN) para analisar os sentimentos expressos nos comentários associados às notas de NPS. Dessa forma, teremos uma perspectiva qualitativa que complementa nossos dados quantitativos."
      ]
    },
    {
      "cell_type": "code",
      "execution_count": null,
      "metadata": {
        "colab": {
          "base_uri": "https://localhost:8080/"
        },
        "id": "4GgxVSEDUevW",
        "outputId": "ea77bce1-7900-43a7-82e2-36f0cbe23b4a"
      },
      "outputs": [],
      "source": [
        "%pip install openai"
      ]
    },
    {
      "cell_type": "code",
      "execution_count": null,
      "metadata": {
        "id": "ahl3NezxUD2r"
      },
      "outputs": [],
      "source": [
        "# Documentação Oficial da API OpenAI: https://platform.openai.com/docs/api-reference/introduction\n",
        "# Informações sobre o Período Gratuito: https://help.openai.com/en/articles/4936830\n",
        "\n",
        "# Para gerar uma API Key:\n",
        "# 1. Crie uma conta na OpenAI\n",
        "# 2. Acesse a seção \"API Keys\"\n",
        "# 3. Clique em \"Create API Key\"\n",
        "# Link direto: https://platform.openai.com/account/api-keys\n",
        "\n",
        "# Substitua o texto \"TODO\" por sua API Key da OpenAI, ela será salva como uma variável de ambiente.\n",
        "openai_api_key = 'TODO'"
      ]
    },
    {
      "cell_type": "code",
      "execution_count": null,
      "metadata": {
        "colab": {
          "base_uri": "https://localhost:8080/"
        },
        "id": "G7H3LfBgUU1h",
        "outputId": "878a5aae-2af0-4616-925d-149074134bd0"
      },
      "outputs": [],
      "source": [
        "# TODO: Integrar com o ChatGPT e usá-lo como um modelo para análise de sentimentos dos nossos comentários.\n",
        "# Seguem alguns links úteis:\n",
        "# 1. Endpoint que vamos consumir: https://platform.openai.com/docs/api-reference/chat/create\n",
        "# 2. Collection Postman da OpenAI: https://www.postman.com/devrel/workspace/openai/documentation/13183464-90abb798-cb85-43cb-ba3a-ae7941e968da\n",
        "\n",
        "import openai\n",
        "\n",
        "openai.api_key = openai_api_key\n",
        "\n",
        "def analisar_sentimentos(feedbacks):\n",
        "\n",
        "  comentarios_formatados = \"\\n\".join([f\"- Nota {feedback.nota}! {feedback.comentario}\" for feedback in feedbacks])\n",
        "  prompt = f\"\"\"\n",
        "            Sintetize uma análise geral sobre os seguintes comentário:\n",
        "            {comentarios_formatados}\"\"\"\n",
        "\n",
        "  respostaAPI = openai.ChatCompletion.create(\n",
        "    model=\"gpt-4\",\n",
        "    messages=[\n",
        "      {\n",
        "          \"role\": \"system\",\n",
        "          \"content\": \"Você é um modelo de análise de sentimentos com foco em feedbacks sobre experiências educacionais.\"\n",
        "      },\n",
        "      {\n",
        "          \"role\": \"user\",\n",
        "          \"content\": prompt\n",
        "      }\n",
        "    ]\n",
        "  )\n",
        "  return respostaAPI.choices[0].message.content\n",
        "\n",
        "insigths = analisar_sentimentos(feedbacks)\n",
        "print(insigths)"
      ]
    }
  ],
  "metadata": {
    "colab": {
      "provenance": []
    },
    "kernelspec": {
      "display_name": "Python 3",
      "name": "python3"
    },
    "language_info": {
      "codemirror_mode": {
        "name": "ipython",
        "version": 3
      },
      "file_extension": ".py",
      "mimetype": "text/x-python",
      "name": "python",
      "nbconvert_exporter": "python",
      "pygments_lexer": "ipython3",
      "version": "3.11.3"
    }
  },
  "nbformat": 4,
  "nbformat_minor": 0
}
